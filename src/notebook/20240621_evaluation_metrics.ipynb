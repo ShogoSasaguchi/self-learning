{
 "cells": [
  {
   "cell_type": "code",
   "execution_count": 1,
   "metadata": {},
   "outputs": [],
   "source": [
    "import numpy as np\n",
    "import polars as pl\n",
    "from sklearn.metrics import average_precision_score"
   ]
  },
  {
   "cell_type": "code",
   "execution_count": 2,
   "metadata": {},
   "outputs": [],
   "source": [
    "# クラス名\n",
    "class_names = [\"猫\", \"犬\", \"鳥\", \"魚\"]\n",
    "\n",
    "# サンプルデータ (10個のサンプル、4つのクラス)\n",
    "y_true = np.array(\n",
    "    [\n",
    "        [1, 0, 1, 0],  # 猫と鳥\n",
    "        [0, 1, 0, 0],  # 犬\n",
    "        [1, 1, 0, 0],  # 猫と犬\n",
    "        [0, 0, 0, 1],  # 魚\n",
    "        [1, 0, 0, 1],  # 猫と魚\n",
    "        [0, 1, 1, 0],  # 犬と鳥\n",
    "        [1, 0, 1, 1],  # 猫と鳥と魚\n",
    "        [0, 0, 1, 0],  # 鳥\n",
    "        [1, 1, 0, 1],  # 猫と犬と魚\n",
    "        [0, 1, 1, 1],  # 犬と鳥と魚\n",
    "    ]\n",
    ")\n",
    "\n",
    "y_scores = np.array(\n",
    "    [\n",
    "        [0.9, 0.8, 0.7, 0.1],  # 猫と鳥が正解だが、犬のスコアも高い\n",
    "        [0.9, 0.7, 0.2, 0.1],  # 犬が正解だが、猫のスコアが最も高い\n",
    "        [0.8, 0.7, 0.6, 0.2],  # 猫と犬が正解だが、鳥のスコアも高い\n",
    "        [0.1, 0.2, 0.3, 0.6],  # 魚が正解で、正しく予測\n",
    "        [0.8, 0.1, 0.7, 0.6],  # 猫と魚が正解だが、鳥のスコアも高い\n",
    "        [0.2, 0.8, 0.7, 0.1],  # 犬と鳥が正解で、ほぼ正しく予測\n",
    "        [0.9, 0.2, 0.8, 0.7],  # 猫と鳥と魚が正解で、ほぼ正しく予測\n",
    "        [0.6, 0.7, 0.5, 0.1],  # 鳥が正解だが、犬のスコアが最も高い\n",
    "        [0.7, 0.8, 0.2, 0.6],  # 猫と犬と魚が正解だが、鳥のスコアが低い\n",
    "        [0.1, 0.6, 0.8, 0.7],  # 犬と鳥と魚が正解だが、猫のスコアが低い\n",
    "    ]\n",
    ")"
   ]
  },
  {
   "cell_type": "markdown",
   "metadata": {},
   "source": [
    "参考になりそう\n",
    "https://fangdahan.medium.com/calculate-mean-average-precision-map-for-multi-label-classification-b082679d31be"
   ]
  },
  {
   "cell_type": "code",
   "execution_count": 3,
   "metadata": {},
   "outputs": [
    {
     "name": "stdout",
     "output_type": "stream",
     "text": [
      "猫のAP (scikit-learn): 0.753\n",
      "犬のAP (scikit-learn): 0.676\n",
      "鳥のAP (scikit-learn): 0.863\n",
      "魚のAP (scikit-learn): 1.000\n",
      "\n",
      "mAP (scikit-learn): 0.823\n"
     ]
    }
   ],
   "source": [
    "# scikit-learnを使用して検証\n",
    "for i in range(len(class_names)):\n",
    "    ap_sklearn = average_precision_score(y_true[:, i], y_scores[:, i])\n",
    "    print(f\"{class_names[i]}のAP (scikit-learn): {ap_sklearn:.3f}\")\n",
    "\n",
    "mAP_sklearn = np.mean(\n",
    "    [\n",
    "        average_precision_score(y_true[:, i], y_scores[:, i])\n",
    "        for i in range(len(class_names))\n",
    "    ]\n",
    ")\n",
    "print(f\"\\nmAP (scikit-learn): {mAP_sklearn:.3f}\")"
   ]
  },
  {
   "cell_type": "code",
   "execution_count": 4,
   "metadata": {},
   "outputs": [
    {
     "name": "stdout",
     "output_type": "stream",
     "text": [
      "猫のAP: 0.810\n",
      "犬のAP: 0.686\n",
      "鳥のAP: 0.903\n",
      "魚のAP: 1.000\n",
      "mAP: 0.850\n"
     ]
    }
   ],
   "source": [
    "ap_list = []\n",
    "for class_idx, class_name in enumerate(class_names):\n",
    "    class_df = pl.DataFrame(\n",
    "        {\n",
    "            \"y_true\": y_true[:, class_idx],\n",
    "            \"y_scores\": y_scores[:, class_idx],\n",
    "        }\n",
    "    ).sort(\"y_scores\", descending=True)\n",
    "    ap = 0\n",
    "    prev_recall = None\n",
    "    for i in range(len(class_df)):\n",
    "        precision = np.sum(class_df[\"y_true\"][: i + 1].to_numpy()) / (i + 1)\n",
    "        recall = np.sum(class_df[\"y_true\"][: i + 1].to_numpy()) / np.sum(\n",
    "            class_df[\"y_true\"].to_numpy()\n",
    "        )\n",
    "        if i == 0:\n",
    "            ap += precision * recall\n",
    "        else:\n",
    "            ap += precision * (recall - prev_recall)\n",
    "        prev_recall = recall\n",
    "        # recall が1.0になったら終了\n",
    "        if recall == 1.0:\n",
    "            break\n",
    "\n",
    "    print(f\"{class_name}のAP: {ap:.3f}\")\n",
    "    ap_list.append(ap)\n",
    "\n",
    "mAP = np.mean(ap_list)\n",
    "print(f\"mAP: {mAP:.3f}\")"
   ]
  },
  {
   "cell_type": "code",
   "execution_count": null,
   "metadata": {},
   "outputs": [],
   "source": []
  }
 ],
 "metadata": {
  "kernelspec": {
   "display_name": ".venv",
   "language": "python",
   "name": "python3"
  },
  "language_info": {
   "codemirror_mode": {
    "name": "ipython",
    "version": 3
   },
   "file_extension": ".py",
   "mimetype": "text/x-python",
   "name": "python",
   "nbconvert_exporter": "python",
   "pygments_lexer": "ipython3",
   "version": "3.12.3"
  }
 },
 "nbformat": 4,
 "nbformat_minor": 2
}
